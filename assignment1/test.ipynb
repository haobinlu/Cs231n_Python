{
 "cells": [
  {
   "cell_type": "code",
   "execution_count": 5,
   "metadata": {
    "collapsed": true,
    "pycharm": {
     "is_executing": false
    }
   },
   "outputs": [
    {
     "name": "stdout",
     "text": [
      "[[[[ 0  1  2]\n   [ 3  4  5]\n   [ 6  7  8]]]\n\n\n [[[ 9 10 11]\n   [12 13 14]\n   [15 16 17]]]]\n[[[[ 0]\n   [ 3]\n   [ 6]]\n\n  [[ 1]\n   [ 4]\n   [ 7]]\n\n  [[ 2]\n   [ 5]\n   [ 8]]]\n\n\n [[[ 9]\n   [12]\n   [15]]\n\n  [[10]\n   [13]\n   [16]]\n\n  [[11]\n   [14]\n   [17]]]]\n"
     ],
     "output_type": "stream"
    }
   ],
   "source": [
    "import numpy as np\n",
    "\n",
    "# A是array([ 0,  1,  2,  3,  4,  5,  6,  7,  8,  9, 10, 11, 12, 13, 14, 15])\n",
    "A = np.arange(18)\n",
    "\n",
    "# 将A变换为三维矩阵\n",
    "A = A.reshape(2,1,3,3)\n",
    "print(A)\n",
    "\n",
    "A = A.transpose((0,3,2,1))\n",
    "print(A)\n"
   ]
  }
 ],
 "metadata": {
  "language_info": {
   "codemirror_mode": {
    "name": "ipython",
    "version": 2
   },
   "file_extension": ".py",
   "mimetype": "text/x-python",
   "name": "python",
   "nbconvert_exporter": "python",
   "pygments_lexer": "ipython2",
   "version": "2.7.6"
  },
  "kernelspec": {
   "name": "python3",
   "language": "python",
   "display_name": "Python 3"
  },
  "pycharm": {
   "stem_cell": {
    "cell_type": "raw",
    "source": [],
    "metadata": {
     "collapsed": false
    }
   }
  }
 },
 "nbformat": 4,
 "nbformat_minor": 0
}